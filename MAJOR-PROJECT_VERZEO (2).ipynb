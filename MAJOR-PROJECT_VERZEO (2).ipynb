{
 "cells": [
  {
   "cell_type": "code",
   "execution_count": 1,
   "metadata": {},
   "outputs": [],
   "source": [
    "import pandas as pd\n",
    "import numpy as np\n",
    "import seaborn as sb\n",
    "import matplotlib.pyplot as plt\n",
    "from sklearn.model_selection import train_test_split\n",
    "from sklearn.preprocessing import LabelEncoder\n",
    "from sklearn.svm import SVC\n",
    "from sklearn.neighbors import KNeighborsClassifier\n",
    "from sklearn.metrics import f1_score\n",
    "from sklearn.metrics import accuracy_score\n",
    "from sklearn.linear_model import LogisticRegression\n",
    "%matplotlib inline"
   ]
  },
  {
   "cell_type": "code",
   "execution_count": 2,
   "metadata": {},
   "outputs": [],
   "source": [
    "le = LabelEncoder()\n",
    "neigh = KNeighborsClassifier()\n",
    "svc = SVC()"
   ]
  },
  {
   "cell_type": "markdown",
   "metadata": {},
   "source": [
    "# Reading dataset\n",
    "Reading dataset and checking for outliers"
   ]
  },
  {
   "cell_type": "code",
   "execution_count": 3,
   "metadata": {},
   "outputs": [],
   "source": [
    "df=pd.read_csv('income_evaluation.csv')"
   ]
  },
  {
   "cell_type": "code",
   "execution_count": 4,
   "metadata": {},
   "outputs": [
    {
     "data": {
      "text/html": [
       "<div>\n",
       "<style scoped>\n",
       "    .dataframe tbody tr th:only-of-type {\n",
       "        vertical-align: middle;\n",
       "    }\n",
       "\n",
       "    .dataframe tbody tr th {\n",
       "        vertical-align: top;\n",
       "    }\n",
       "\n",
       "    .dataframe thead th {\n",
       "        text-align: right;\n",
       "    }\n",
       "</style>\n",
       "<table border=\"1\" class=\"dataframe\">\n",
       "  <thead>\n",
       "    <tr style=\"text-align: right;\">\n",
       "      <th></th>\n",
       "      <th>age</th>\n",
       "      <th>workclass</th>\n",
       "      <th>fnlwgt</th>\n",
       "      <th>education</th>\n",
       "      <th>education-num</th>\n",
       "      <th>marital-status</th>\n",
       "      <th>occupation</th>\n",
       "      <th>relationship</th>\n",
       "      <th>race</th>\n",
       "      <th>sex</th>\n",
       "      <th>capital-gain</th>\n",
       "      <th>capital-loss</th>\n",
       "      <th>hours-per-week</th>\n",
       "      <th>native-country</th>\n",
       "      <th>income</th>\n",
       "    </tr>\n",
       "  </thead>\n",
       "  <tbody>\n",
       "    <tr>\n",
       "      <th>0</th>\n",
       "      <td>39</td>\n",
       "      <td>State-gov</td>\n",
       "      <td>77516</td>\n",
       "      <td>Bachelors</td>\n",
       "      <td>13</td>\n",
       "      <td>Never-married</td>\n",
       "      <td>Adm-clerical</td>\n",
       "      <td>Not-in-family</td>\n",
       "      <td>White</td>\n",
       "      <td>Male</td>\n",
       "      <td>2174</td>\n",
       "      <td>0</td>\n",
       "      <td>40</td>\n",
       "      <td>United-States</td>\n",
       "      <td>&lt;=50K</td>\n",
       "    </tr>\n",
       "    <tr>\n",
       "      <th>1</th>\n",
       "      <td>50</td>\n",
       "      <td>Self-emp-not-inc</td>\n",
       "      <td>83311</td>\n",
       "      <td>Bachelors</td>\n",
       "      <td>13</td>\n",
       "      <td>Married-civ-spouse</td>\n",
       "      <td>Exec-managerial</td>\n",
       "      <td>Husband</td>\n",
       "      <td>White</td>\n",
       "      <td>Male</td>\n",
       "      <td>0</td>\n",
       "      <td>0</td>\n",
       "      <td>13</td>\n",
       "      <td>United-States</td>\n",
       "      <td>&lt;=50K</td>\n",
       "    </tr>\n",
       "    <tr>\n",
       "      <th>2</th>\n",
       "      <td>38</td>\n",
       "      <td>Private</td>\n",
       "      <td>215646</td>\n",
       "      <td>HS-grad</td>\n",
       "      <td>9</td>\n",
       "      <td>Divorced</td>\n",
       "      <td>Handlers-cleaners</td>\n",
       "      <td>Not-in-family</td>\n",
       "      <td>White</td>\n",
       "      <td>Male</td>\n",
       "      <td>0</td>\n",
       "      <td>0</td>\n",
       "      <td>40</td>\n",
       "      <td>United-States</td>\n",
       "      <td>&lt;=50K</td>\n",
       "    </tr>\n",
       "    <tr>\n",
       "      <th>3</th>\n",
       "      <td>53</td>\n",
       "      <td>Private</td>\n",
       "      <td>234721</td>\n",
       "      <td>11th</td>\n",
       "      <td>7</td>\n",
       "      <td>Married-civ-spouse</td>\n",
       "      <td>Handlers-cleaners</td>\n",
       "      <td>Husband</td>\n",
       "      <td>Black</td>\n",
       "      <td>Male</td>\n",
       "      <td>0</td>\n",
       "      <td>0</td>\n",
       "      <td>40</td>\n",
       "      <td>United-States</td>\n",
       "      <td>&lt;=50K</td>\n",
       "    </tr>\n",
       "    <tr>\n",
       "      <th>4</th>\n",
       "      <td>28</td>\n",
       "      <td>Private</td>\n",
       "      <td>338409</td>\n",
       "      <td>Bachelors</td>\n",
       "      <td>13</td>\n",
       "      <td>Married-civ-spouse</td>\n",
       "      <td>Prof-specialty</td>\n",
       "      <td>Wife</td>\n",
       "      <td>Black</td>\n",
       "      <td>Female</td>\n",
       "      <td>0</td>\n",
       "      <td>0</td>\n",
       "      <td>40</td>\n",
       "      <td>Cuba</td>\n",
       "      <td>&lt;=50K</td>\n",
       "    </tr>\n",
       "    <tr>\n",
       "      <th>...</th>\n",
       "      <td>...</td>\n",
       "      <td>...</td>\n",
       "      <td>...</td>\n",
       "      <td>...</td>\n",
       "      <td>...</td>\n",
       "      <td>...</td>\n",
       "      <td>...</td>\n",
       "      <td>...</td>\n",
       "      <td>...</td>\n",
       "      <td>...</td>\n",
       "      <td>...</td>\n",
       "      <td>...</td>\n",
       "      <td>...</td>\n",
       "      <td>...</td>\n",
       "      <td>...</td>\n",
       "    </tr>\n",
       "    <tr>\n",
       "      <th>32556</th>\n",
       "      <td>27</td>\n",
       "      <td>Private</td>\n",
       "      <td>257302</td>\n",
       "      <td>Assoc-acdm</td>\n",
       "      <td>12</td>\n",
       "      <td>Married-civ-spouse</td>\n",
       "      <td>Tech-support</td>\n",
       "      <td>Wife</td>\n",
       "      <td>White</td>\n",
       "      <td>Female</td>\n",
       "      <td>0</td>\n",
       "      <td>0</td>\n",
       "      <td>38</td>\n",
       "      <td>United-States</td>\n",
       "      <td>&lt;=50K</td>\n",
       "    </tr>\n",
       "    <tr>\n",
       "      <th>32557</th>\n",
       "      <td>40</td>\n",
       "      <td>Private</td>\n",
       "      <td>154374</td>\n",
       "      <td>HS-grad</td>\n",
       "      <td>9</td>\n",
       "      <td>Married-civ-spouse</td>\n",
       "      <td>Machine-op-inspct</td>\n",
       "      <td>Husband</td>\n",
       "      <td>White</td>\n",
       "      <td>Male</td>\n",
       "      <td>0</td>\n",
       "      <td>0</td>\n",
       "      <td>40</td>\n",
       "      <td>United-States</td>\n",
       "      <td>&gt;50K</td>\n",
       "    </tr>\n",
       "    <tr>\n",
       "      <th>32558</th>\n",
       "      <td>58</td>\n",
       "      <td>Private</td>\n",
       "      <td>151910</td>\n",
       "      <td>HS-grad</td>\n",
       "      <td>9</td>\n",
       "      <td>Widowed</td>\n",
       "      <td>Adm-clerical</td>\n",
       "      <td>Unmarried</td>\n",
       "      <td>White</td>\n",
       "      <td>Female</td>\n",
       "      <td>0</td>\n",
       "      <td>0</td>\n",
       "      <td>40</td>\n",
       "      <td>United-States</td>\n",
       "      <td>&lt;=50K</td>\n",
       "    </tr>\n",
       "    <tr>\n",
       "      <th>32559</th>\n",
       "      <td>22</td>\n",
       "      <td>Private</td>\n",
       "      <td>201490</td>\n",
       "      <td>HS-grad</td>\n",
       "      <td>9</td>\n",
       "      <td>Never-married</td>\n",
       "      <td>Adm-clerical</td>\n",
       "      <td>Own-child</td>\n",
       "      <td>White</td>\n",
       "      <td>Male</td>\n",
       "      <td>0</td>\n",
       "      <td>0</td>\n",
       "      <td>20</td>\n",
       "      <td>United-States</td>\n",
       "      <td>&lt;=50K</td>\n",
       "    </tr>\n",
       "    <tr>\n",
       "      <th>32560</th>\n",
       "      <td>52</td>\n",
       "      <td>Self-emp-inc</td>\n",
       "      <td>287927</td>\n",
       "      <td>HS-grad</td>\n",
       "      <td>9</td>\n",
       "      <td>Married-civ-spouse</td>\n",
       "      <td>Exec-managerial</td>\n",
       "      <td>Wife</td>\n",
       "      <td>White</td>\n",
       "      <td>Female</td>\n",
       "      <td>15024</td>\n",
       "      <td>0</td>\n",
       "      <td>40</td>\n",
       "      <td>United-States</td>\n",
       "      <td>&gt;50K</td>\n",
       "    </tr>\n",
       "  </tbody>\n",
       "</table>\n",
       "<p>32561 rows × 15 columns</p>\n",
       "</div>"
      ],
      "text/plain": [
       "       age          workclass   fnlwgt    education   education-num  \\\n",
       "0       39          State-gov    77516    Bachelors              13   \n",
       "1       50   Self-emp-not-inc    83311    Bachelors              13   \n",
       "2       38            Private   215646      HS-grad               9   \n",
       "3       53            Private   234721         11th               7   \n",
       "4       28            Private   338409    Bachelors              13   \n",
       "...    ...                ...      ...          ...             ...   \n",
       "32556   27            Private   257302   Assoc-acdm              12   \n",
       "32557   40            Private   154374      HS-grad               9   \n",
       "32558   58            Private   151910      HS-grad               9   \n",
       "32559   22            Private   201490      HS-grad               9   \n",
       "32560   52       Self-emp-inc   287927      HS-grad               9   \n",
       "\n",
       "            marital-status          occupation    relationship    race  \\\n",
       "0            Never-married        Adm-clerical   Not-in-family   White   \n",
       "1       Married-civ-spouse     Exec-managerial         Husband   White   \n",
       "2                 Divorced   Handlers-cleaners   Not-in-family   White   \n",
       "3       Married-civ-spouse   Handlers-cleaners         Husband   Black   \n",
       "4       Married-civ-spouse      Prof-specialty            Wife   Black   \n",
       "...                    ...                 ...             ...     ...   \n",
       "32556   Married-civ-spouse        Tech-support            Wife   White   \n",
       "32557   Married-civ-spouse   Machine-op-inspct         Husband   White   \n",
       "32558              Widowed        Adm-clerical       Unmarried   White   \n",
       "32559        Never-married        Adm-clerical       Own-child   White   \n",
       "32560   Married-civ-spouse     Exec-managerial            Wife   White   \n",
       "\n",
       "           sex   capital-gain   capital-loss   hours-per-week  native-country  \\\n",
       "0         Male           2174              0               40   United-States   \n",
       "1         Male              0              0               13   United-States   \n",
       "2         Male              0              0               40   United-States   \n",
       "3         Male              0              0               40   United-States   \n",
       "4       Female              0              0               40            Cuba   \n",
       "...        ...            ...            ...              ...             ...   \n",
       "32556   Female              0              0               38   United-States   \n",
       "32557     Male              0              0               40   United-States   \n",
       "32558   Female              0              0               40   United-States   \n",
       "32559     Male              0              0               20   United-States   \n",
       "32560   Female          15024              0               40   United-States   \n",
       "\n",
       "       income  \n",
       "0       <=50K  \n",
       "1       <=50K  \n",
       "2       <=50K  \n",
       "3       <=50K  \n",
       "4       <=50K  \n",
       "...       ...  \n",
       "32556   <=50K  \n",
       "32557    >50K  \n",
       "32558   <=50K  \n",
       "32559   <=50K  \n",
       "32560    >50K  \n",
       "\n",
       "[32561 rows x 15 columns]"
      ]
     },
     "execution_count": 4,
     "metadata": {},
     "output_type": "execute_result"
    }
   ],
   "source": [
    "df"
   ]
  },
  {
   "cell_type": "code",
   "execution_count": 5,
   "metadata": {},
   "outputs": [
    {
     "data": {
      "text/html": [
       "<div>\n",
       "<style scoped>\n",
       "    .dataframe tbody tr th:only-of-type {\n",
       "        vertical-align: middle;\n",
       "    }\n",
       "\n",
       "    .dataframe tbody tr th {\n",
       "        vertical-align: top;\n",
       "    }\n",
       "\n",
       "    .dataframe thead th {\n",
       "        text-align: right;\n",
       "    }\n",
       "</style>\n",
       "<table border=\"1\" class=\"dataframe\">\n",
       "  <thead>\n",
       "    <tr style=\"text-align: right;\">\n",
       "      <th></th>\n",
       "      <th>age</th>\n",
       "      <th>fnlwgt</th>\n",
       "      <th>education-num</th>\n",
       "      <th>capital-gain</th>\n",
       "      <th>capital-loss</th>\n",
       "      <th>hours-per-week</th>\n",
       "    </tr>\n",
       "  </thead>\n",
       "  <tbody>\n",
       "    <tr>\n",
       "      <th>count</th>\n",
       "      <td>32561.000000</td>\n",
       "      <td>3.256100e+04</td>\n",
       "      <td>32561.000000</td>\n",
       "      <td>32561.000000</td>\n",
       "      <td>32561.000000</td>\n",
       "      <td>32561.000000</td>\n",
       "    </tr>\n",
       "    <tr>\n",
       "      <th>mean</th>\n",
       "      <td>38.581647</td>\n",
       "      <td>1.897784e+05</td>\n",
       "      <td>10.080679</td>\n",
       "      <td>1077.648844</td>\n",
       "      <td>87.303830</td>\n",
       "      <td>40.437456</td>\n",
       "    </tr>\n",
       "    <tr>\n",
       "      <th>std</th>\n",
       "      <td>13.640433</td>\n",
       "      <td>1.055500e+05</td>\n",
       "      <td>2.572720</td>\n",
       "      <td>7385.292085</td>\n",
       "      <td>402.960219</td>\n",
       "      <td>12.347429</td>\n",
       "    </tr>\n",
       "    <tr>\n",
       "      <th>min</th>\n",
       "      <td>17.000000</td>\n",
       "      <td>1.228500e+04</td>\n",
       "      <td>1.000000</td>\n",
       "      <td>0.000000</td>\n",
       "      <td>0.000000</td>\n",
       "      <td>1.000000</td>\n",
       "    </tr>\n",
       "    <tr>\n",
       "      <th>25%</th>\n",
       "      <td>28.000000</td>\n",
       "      <td>1.178270e+05</td>\n",
       "      <td>9.000000</td>\n",
       "      <td>0.000000</td>\n",
       "      <td>0.000000</td>\n",
       "      <td>40.000000</td>\n",
       "    </tr>\n",
       "    <tr>\n",
       "      <th>50%</th>\n",
       "      <td>37.000000</td>\n",
       "      <td>1.783560e+05</td>\n",
       "      <td>10.000000</td>\n",
       "      <td>0.000000</td>\n",
       "      <td>0.000000</td>\n",
       "      <td>40.000000</td>\n",
       "    </tr>\n",
       "    <tr>\n",
       "      <th>75%</th>\n",
       "      <td>48.000000</td>\n",
       "      <td>2.370510e+05</td>\n",
       "      <td>12.000000</td>\n",
       "      <td>0.000000</td>\n",
       "      <td>0.000000</td>\n",
       "      <td>45.000000</td>\n",
       "    </tr>\n",
       "    <tr>\n",
       "      <th>max</th>\n",
       "      <td>90.000000</td>\n",
       "      <td>1.484705e+06</td>\n",
       "      <td>16.000000</td>\n",
       "      <td>99999.000000</td>\n",
       "      <td>4356.000000</td>\n",
       "      <td>99.000000</td>\n",
       "    </tr>\n",
       "  </tbody>\n",
       "</table>\n",
       "</div>"
      ],
      "text/plain": [
       "                age        fnlwgt   education-num   capital-gain  \\\n",
       "count  32561.000000  3.256100e+04    32561.000000   32561.000000   \n",
       "mean      38.581647  1.897784e+05       10.080679    1077.648844   \n",
       "std       13.640433  1.055500e+05        2.572720    7385.292085   \n",
       "min       17.000000  1.228500e+04        1.000000       0.000000   \n",
       "25%       28.000000  1.178270e+05        9.000000       0.000000   \n",
       "50%       37.000000  1.783560e+05       10.000000       0.000000   \n",
       "75%       48.000000  2.370510e+05       12.000000       0.000000   \n",
       "max       90.000000  1.484705e+06       16.000000   99999.000000   \n",
       "\n",
       "        capital-loss   hours-per-week  \n",
       "count   32561.000000     32561.000000  \n",
       "mean       87.303830        40.437456  \n",
       "std       402.960219        12.347429  \n",
       "min         0.000000         1.000000  \n",
       "25%         0.000000        40.000000  \n",
       "50%         0.000000        40.000000  \n",
       "75%         0.000000        45.000000  \n",
       "max      4356.000000        99.000000  "
      ]
     },
     "execution_count": 5,
     "metadata": {},
     "output_type": "execute_result"
    }
   ],
   "source": [
    "df.describe()"
   ]
  },
  {
   "cell_type": "code",
   "execution_count": 6,
   "metadata": {},
   "outputs": [],
   "source": [
    "# there arent any exceptional outliers and all the values can be considered"
   ]
  },
  {
   "cell_type": "code",
   "execution_count": 7,
   "metadata": {},
   "outputs": [
    {
     "name": "stdout",
     "output_type": "stream",
     "text": [
      "<class 'pandas.core.frame.DataFrame'>\n",
      "RangeIndex: 32561 entries, 0 to 32560\n",
      "Data columns (total 15 columns):\n",
      " #   Column           Non-Null Count  Dtype \n",
      "---  ------           --------------  ----- \n",
      " 0   age              32561 non-null  int64 \n",
      " 1    workclass       32561 non-null  object\n",
      " 2    fnlwgt          32561 non-null  int64 \n",
      " 3    education       32561 non-null  object\n",
      " 4    education-num   32561 non-null  int64 \n",
      " 5    marital-status  32561 non-null  object\n",
      " 6    occupation      32561 non-null  object\n",
      " 7    relationship    32561 non-null  object\n",
      " 8    race            32561 non-null  object\n",
      " 9    sex             32561 non-null  object\n",
      " 10   capital-gain    32561 non-null  int64 \n",
      " 11   capital-loss    32561 non-null  int64 \n",
      " 12   hours-per-week  32561 non-null  int64 \n",
      " 13   native-country  32561 non-null  object\n",
      " 14   income          32561 non-null  object\n",
      "dtypes: int64(6), object(9)\n",
      "memory usage: 3.7+ MB\n"
     ]
    }
   ],
   "source": [
    "df.info()"
   ]
  },
  {
   "cell_type": "markdown",
   "metadata": {},
   "source": [
    "# Cleaning Datset\n",
    "Removing null values and duplicates"
   ]
  },
  {
   "cell_type": "code",
   "execution_count": 8,
   "metadata": {},
   "outputs": [
    {
     "data": {
      "text/html": [
       "<div>\n",
       "<style scoped>\n",
       "    .dataframe tbody tr th:only-of-type {\n",
       "        vertical-align: middle;\n",
       "    }\n",
       "\n",
       "    .dataframe tbody tr th {\n",
       "        vertical-align: top;\n",
       "    }\n",
       "\n",
       "    .dataframe thead th {\n",
       "        text-align: right;\n",
       "    }\n",
       "</style>\n",
       "<table border=\"1\" class=\"dataframe\">\n",
       "  <thead>\n",
       "    <tr style=\"text-align: right;\">\n",
       "      <th></th>\n",
       "      <th>age</th>\n",
       "      <th>workclass</th>\n",
       "      <th>fnlwgt</th>\n",
       "      <th>education</th>\n",
       "      <th>education-num</th>\n",
       "      <th>marital-status</th>\n",
       "      <th>occupation</th>\n",
       "      <th>relationship</th>\n",
       "      <th>race</th>\n",
       "      <th>sex</th>\n",
       "      <th>capital-gain</th>\n",
       "      <th>capital-loss</th>\n",
       "      <th>hours-per-week</th>\n",
       "      <th>native-country</th>\n",
       "      <th>income</th>\n",
       "    </tr>\n",
       "  </thead>\n",
       "  <tbody>\n",
       "    <tr>\n",
       "      <th>0</th>\n",
       "      <td>39</td>\n",
       "      <td>State-gov</td>\n",
       "      <td>77516</td>\n",
       "      <td>Bachelors</td>\n",
       "      <td>13</td>\n",
       "      <td>Never-married</td>\n",
       "      <td>Adm-clerical</td>\n",
       "      <td>Not-in-family</td>\n",
       "      <td>White</td>\n",
       "      <td>Male</td>\n",
       "      <td>2174</td>\n",
       "      <td>0</td>\n",
       "      <td>40</td>\n",
       "      <td>United-States</td>\n",
       "      <td>&lt;=50K</td>\n",
       "    </tr>\n",
       "    <tr>\n",
       "      <th>1</th>\n",
       "      <td>50</td>\n",
       "      <td>Self-emp-not-inc</td>\n",
       "      <td>83311</td>\n",
       "      <td>Bachelors</td>\n",
       "      <td>13</td>\n",
       "      <td>Married-civ-spouse</td>\n",
       "      <td>Exec-managerial</td>\n",
       "      <td>Husband</td>\n",
       "      <td>White</td>\n",
       "      <td>Male</td>\n",
       "      <td>0</td>\n",
       "      <td>0</td>\n",
       "      <td>13</td>\n",
       "      <td>United-States</td>\n",
       "      <td>&lt;=50K</td>\n",
       "    </tr>\n",
       "    <tr>\n",
       "      <th>2</th>\n",
       "      <td>38</td>\n",
       "      <td>Private</td>\n",
       "      <td>215646</td>\n",
       "      <td>HS-grad</td>\n",
       "      <td>9</td>\n",
       "      <td>Divorced</td>\n",
       "      <td>Handlers-cleaners</td>\n",
       "      <td>Not-in-family</td>\n",
       "      <td>White</td>\n",
       "      <td>Male</td>\n",
       "      <td>0</td>\n",
       "      <td>0</td>\n",
       "      <td>40</td>\n",
       "      <td>United-States</td>\n",
       "      <td>&lt;=50K</td>\n",
       "    </tr>\n",
       "    <tr>\n",
       "      <th>3</th>\n",
       "      <td>53</td>\n",
       "      <td>Private</td>\n",
       "      <td>234721</td>\n",
       "      <td>11th</td>\n",
       "      <td>7</td>\n",
       "      <td>Married-civ-spouse</td>\n",
       "      <td>Handlers-cleaners</td>\n",
       "      <td>Husband</td>\n",
       "      <td>Black</td>\n",
       "      <td>Male</td>\n",
       "      <td>0</td>\n",
       "      <td>0</td>\n",
       "      <td>40</td>\n",
       "      <td>United-States</td>\n",
       "      <td>&lt;=50K</td>\n",
       "    </tr>\n",
       "    <tr>\n",
       "      <th>4</th>\n",
       "      <td>28</td>\n",
       "      <td>Private</td>\n",
       "      <td>338409</td>\n",
       "      <td>Bachelors</td>\n",
       "      <td>13</td>\n",
       "      <td>Married-civ-spouse</td>\n",
       "      <td>Prof-specialty</td>\n",
       "      <td>Wife</td>\n",
       "      <td>Black</td>\n",
       "      <td>Female</td>\n",
       "      <td>0</td>\n",
       "      <td>0</td>\n",
       "      <td>40</td>\n",
       "      <td>Cuba</td>\n",
       "      <td>&lt;=50K</td>\n",
       "    </tr>\n",
       "    <tr>\n",
       "      <th>...</th>\n",
       "      <td>...</td>\n",
       "      <td>...</td>\n",
       "      <td>...</td>\n",
       "      <td>...</td>\n",
       "      <td>...</td>\n",
       "      <td>...</td>\n",
       "      <td>...</td>\n",
       "      <td>...</td>\n",
       "      <td>...</td>\n",
       "      <td>...</td>\n",
       "      <td>...</td>\n",
       "      <td>...</td>\n",
       "      <td>...</td>\n",
       "      <td>...</td>\n",
       "      <td>...</td>\n",
       "    </tr>\n",
       "    <tr>\n",
       "      <th>32532</th>\n",
       "      <td>27</td>\n",
       "      <td>Private</td>\n",
       "      <td>257302</td>\n",
       "      <td>Assoc-acdm</td>\n",
       "      <td>12</td>\n",
       "      <td>Married-civ-spouse</td>\n",
       "      <td>Tech-support</td>\n",
       "      <td>Wife</td>\n",
       "      <td>White</td>\n",
       "      <td>Female</td>\n",
       "      <td>0</td>\n",
       "      <td>0</td>\n",
       "      <td>38</td>\n",
       "      <td>United-States</td>\n",
       "      <td>&lt;=50K</td>\n",
       "    </tr>\n",
       "    <tr>\n",
       "      <th>32533</th>\n",
       "      <td>40</td>\n",
       "      <td>Private</td>\n",
       "      <td>154374</td>\n",
       "      <td>HS-grad</td>\n",
       "      <td>9</td>\n",
       "      <td>Married-civ-spouse</td>\n",
       "      <td>Machine-op-inspct</td>\n",
       "      <td>Husband</td>\n",
       "      <td>White</td>\n",
       "      <td>Male</td>\n",
       "      <td>0</td>\n",
       "      <td>0</td>\n",
       "      <td>40</td>\n",
       "      <td>United-States</td>\n",
       "      <td>&gt;50K</td>\n",
       "    </tr>\n",
       "    <tr>\n",
       "      <th>32534</th>\n",
       "      <td>58</td>\n",
       "      <td>Private</td>\n",
       "      <td>151910</td>\n",
       "      <td>HS-grad</td>\n",
       "      <td>9</td>\n",
       "      <td>Widowed</td>\n",
       "      <td>Adm-clerical</td>\n",
       "      <td>Unmarried</td>\n",
       "      <td>White</td>\n",
       "      <td>Female</td>\n",
       "      <td>0</td>\n",
       "      <td>0</td>\n",
       "      <td>40</td>\n",
       "      <td>United-States</td>\n",
       "      <td>&lt;=50K</td>\n",
       "    </tr>\n",
       "    <tr>\n",
       "      <th>32535</th>\n",
       "      <td>22</td>\n",
       "      <td>Private</td>\n",
       "      <td>201490</td>\n",
       "      <td>HS-grad</td>\n",
       "      <td>9</td>\n",
       "      <td>Never-married</td>\n",
       "      <td>Adm-clerical</td>\n",
       "      <td>Own-child</td>\n",
       "      <td>White</td>\n",
       "      <td>Male</td>\n",
       "      <td>0</td>\n",
       "      <td>0</td>\n",
       "      <td>20</td>\n",
       "      <td>United-States</td>\n",
       "      <td>&lt;=50K</td>\n",
       "    </tr>\n",
       "    <tr>\n",
       "      <th>32536</th>\n",
       "      <td>52</td>\n",
       "      <td>Self-emp-inc</td>\n",
       "      <td>287927</td>\n",
       "      <td>HS-grad</td>\n",
       "      <td>9</td>\n",
       "      <td>Married-civ-spouse</td>\n",
       "      <td>Exec-managerial</td>\n",
       "      <td>Wife</td>\n",
       "      <td>White</td>\n",
       "      <td>Female</td>\n",
       "      <td>15024</td>\n",
       "      <td>0</td>\n",
       "      <td>40</td>\n",
       "      <td>United-States</td>\n",
       "      <td>&gt;50K</td>\n",
       "    </tr>\n",
       "  </tbody>\n",
       "</table>\n",
       "<p>32537 rows × 15 columns</p>\n",
       "</div>"
      ],
      "text/plain": [
       "       age          workclass   fnlwgt    education   education-num  \\\n",
       "0       39          State-gov    77516    Bachelors              13   \n",
       "1       50   Self-emp-not-inc    83311    Bachelors              13   \n",
       "2       38            Private   215646      HS-grad               9   \n",
       "3       53            Private   234721         11th               7   \n",
       "4       28            Private   338409    Bachelors              13   \n",
       "...    ...                ...      ...          ...             ...   \n",
       "32532   27            Private   257302   Assoc-acdm              12   \n",
       "32533   40            Private   154374      HS-grad               9   \n",
       "32534   58            Private   151910      HS-grad               9   \n",
       "32535   22            Private   201490      HS-grad               9   \n",
       "32536   52       Self-emp-inc   287927      HS-grad               9   \n",
       "\n",
       "            marital-status          occupation    relationship    race  \\\n",
       "0            Never-married        Adm-clerical   Not-in-family   White   \n",
       "1       Married-civ-spouse     Exec-managerial         Husband   White   \n",
       "2                 Divorced   Handlers-cleaners   Not-in-family   White   \n",
       "3       Married-civ-spouse   Handlers-cleaners         Husband   Black   \n",
       "4       Married-civ-spouse      Prof-specialty            Wife   Black   \n",
       "...                    ...                 ...             ...     ...   \n",
       "32532   Married-civ-spouse        Tech-support            Wife   White   \n",
       "32533   Married-civ-spouse   Machine-op-inspct         Husband   White   \n",
       "32534              Widowed        Adm-clerical       Unmarried   White   \n",
       "32535        Never-married        Adm-clerical       Own-child   White   \n",
       "32536   Married-civ-spouse     Exec-managerial            Wife   White   \n",
       "\n",
       "           sex   capital-gain   capital-loss   hours-per-week  native-country  \\\n",
       "0         Male           2174              0               40   United-States   \n",
       "1         Male              0              0               13   United-States   \n",
       "2         Male              0              0               40   United-States   \n",
       "3         Male              0              0               40   United-States   \n",
       "4       Female              0              0               40            Cuba   \n",
       "...        ...            ...            ...              ...             ...   \n",
       "32532   Female              0              0               38   United-States   \n",
       "32533     Male              0              0               40   United-States   \n",
       "32534   Female              0              0               40   United-States   \n",
       "32535     Male              0              0               20   United-States   \n",
       "32536   Female          15024              0               40   United-States   \n",
       "\n",
       "       income  \n",
       "0       <=50K  \n",
       "1       <=50K  \n",
       "2       <=50K  \n",
       "3       <=50K  \n",
       "4       <=50K  \n",
       "...       ...  \n",
       "32532   <=50K  \n",
       "32533    >50K  \n",
       "32534   <=50K  \n",
       "32535   <=50K  \n",
       "32536    >50K  \n",
       "\n",
       "[32537 rows x 15 columns]"
      ]
     },
     "execution_count": 8,
     "metadata": {},
     "output_type": "execute_result"
    }
   ],
   "source": [
    "df.drop_duplicates(inplace=True,ignore_index=True,keep='first')\n",
    "df=df.dropna()\n",
    "#resetting index\n",
    "df.reset_index(inplace=True,drop=True)\n",
    "df"
   ]
  },
  {
   "cell_type": "code",
   "execution_count": 9,
   "metadata": {},
   "outputs": [
    {
     "data": {
      "text/plain": [
       "Index(['age', ' workclass', ' fnlwgt', ' education', ' education-num',\n",
       "       ' marital-status', ' occupation', ' relationship', ' race', ' sex',\n",
       "       ' capital-gain', ' capital-loss', ' hours-per-week', ' native-country',\n",
       "       ' income'],\n",
       "      dtype='object')"
      ]
     },
     "execution_count": 9,
     "metadata": {},
     "output_type": "execute_result"
    }
   ],
   "source": [
    "df.columns"
   ]
  },
  {
   "cell_type": "code",
   "execution_count": 10,
   "metadata": {},
   "outputs": [],
   "source": [
    "a=['age', ' workclass', ' fnlwgt', ' education', ' education-num',\n",
    "       ' marital-status', ' occupation', ' relationship', ' race', ' sex',\n",
    "       ' capital-gain', ' capital-loss', ' hours-per-week', ' native-country',\n",
    "       ' income']"
   ]
  },
  {
   "cell_type": "code",
   "execution_count": 11,
   "metadata": {},
   "outputs": [
    {
     "name": "stdout",
     "output_type": "stream",
     "text": [
      "36    898\n",
      "31    888\n",
      "34    886\n",
      "23    876\n",
      "33    875\n",
      "     ... \n",
      "83      6\n",
      "85      3\n",
      "88      3\n",
      "87      1\n",
      "86      1\n",
      "Name: age, Length: 73, dtype: int64\n",
      " Private             22673\n",
      " Self-emp-not-inc     2540\n",
      " Local-gov            2093\n",
      " ?                    1836\n",
      " State-gov            1298\n",
      " Self-emp-inc         1116\n",
      " Federal-gov           960\n",
      " Without-pay            14\n",
      " Never-worked            7\n",
      "Name:  workclass, dtype: int64\n",
      "123011    13\n",
      "164190    13\n",
      "203488    13\n",
      "113364    12\n",
      "148995    12\n",
      "          ..\n",
      "65078      1\n",
      "68318      1\n",
      "284211     1\n",
      "312881     1\n",
      "229376     1\n",
      "Name:  fnlwgt, Length: 21648, dtype: int64\n",
      " HS-grad         10494\n",
      " Some-college     7282\n",
      " Bachelors        5353\n",
      " Masters          1722\n",
      " Assoc-voc        1382\n",
      " 11th             1175\n",
      " Assoc-acdm       1067\n",
      " 10th              933\n",
      " 7th-8th           645\n",
      " Prof-school       576\n",
      " 9th               514\n",
      " 12th              433\n",
      " Doctorate         413\n",
      " 5th-6th           332\n",
      " 1st-4th           166\n",
      " Preschool          50\n",
      "Name:  education, dtype: int64\n",
      "9     10494\n",
      "10     7282\n",
      "13     5353\n",
      "14     1722\n",
      "11     1382\n",
      "7      1175\n",
      "12     1067\n",
      "6       933\n",
      "4       645\n",
      "15      576\n",
      "5       514\n",
      "8       433\n",
      "16      413\n",
      "3       332\n",
      "2       166\n",
      "1        50\n",
      "Name:  education-num, dtype: int64\n",
      " Married-civ-spouse       14970\n",
      " Never-married            10667\n",
      " Divorced                  4441\n",
      " Separated                 1025\n",
      " Widowed                    993\n",
      " Married-spouse-absent      418\n",
      " Married-AF-spouse           23\n",
      "Name:  marital-status, dtype: int64\n",
      " Prof-specialty       4136\n",
      " Craft-repair         4094\n",
      " Exec-managerial      4065\n",
      " Adm-clerical         3768\n",
      " Sales                3650\n",
      " Other-service        3291\n",
      " Machine-op-inspct    2000\n",
      " ?                    1843\n",
      " Transport-moving     1597\n",
      " Handlers-cleaners    1369\n",
      " Farming-fishing       992\n",
      " Tech-support          927\n",
      " Protective-serv       649\n",
      " Priv-house-serv       147\n",
      " Armed-Forces            9\n",
      "Name:  occupation, dtype: int64\n",
      " Husband           13187\n",
      " Not-in-family      8292\n",
      " Own-child          5064\n",
      " Unmarried          3445\n",
      " Wife               1568\n",
      " Other-relative      981\n",
      "Name:  relationship, dtype: int64\n",
      " White                 27795\n",
      " Black                  3122\n",
      " Asian-Pac-Islander     1038\n",
      " Amer-Indian-Eskimo      311\n",
      " Other                   271\n",
      "Name:  race, dtype: int64\n",
      " Male      21775\n",
      " Female    10762\n",
      "Name:  sex, dtype: int64\n",
      "0        29825\n",
      "15024      347\n",
      "7688       284\n",
      "7298       246\n",
      "99999      159\n",
      "         ...  \n",
      "4931         1\n",
      "1455         1\n",
      "6097         1\n",
      "22040        1\n",
      "1111         1\n",
      "Name:  capital-gain, Length: 119, dtype: int64\n",
      "0       31018\n",
      "1902      202\n",
      "1977      168\n",
      "1887      159\n",
      "1848       51\n",
      "        ...  \n",
      "1411        1\n",
      "1539        1\n",
      "2472        1\n",
      "1944        1\n",
      "2201        1\n",
      "Name:  capital-loss, Length: 92, dtype: int64\n",
      "40    15204\n",
      "50     2817\n",
      "45     1823\n",
      "60     1475\n",
      "35     1296\n",
      "      ...  \n",
      "92        1\n",
      "94        1\n",
      "87        1\n",
      "74        1\n",
      "82        1\n",
      "Name:  hours-per-week, Length: 94, dtype: int64\n",
      " United-States                 29153\n",
      " Mexico                          639\n",
      " ?                               582\n",
      " Philippines                     198\n",
      " Germany                         137\n",
      " Canada                          121\n",
      " Puerto-Rico                     114\n",
      " El-Salvador                     106\n",
      " India                           100\n",
      " Cuba                             95\n",
      " England                          90\n",
      " Jamaica                          81\n",
      " South                            80\n",
      " China                            75\n",
      " Italy                            73\n",
      " Dominican-Republic               70\n",
      " Vietnam                          67\n",
      " Guatemala                        62\n",
      " Japan                            62\n",
      " Poland                           60\n",
      " Columbia                         59\n",
      " Taiwan                           51\n",
      " Haiti                            44\n",
      " Iran                             43\n",
      " Portugal                         37\n",
      " Nicaragua                        34\n",
      " Peru                             31\n",
      " Greece                           29\n",
      " France                           29\n",
      " Ecuador                          28\n",
      " Ireland                          24\n",
      " Hong                             20\n",
      " Trinadad&Tobago                  19\n",
      " Cambodia                         19\n",
      " Thailand                         18\n",
      " Laos                             18\n",
      " Yugoslavia                       16\n",
      " Outlying-US(Guam-USVI-etc)       14\n",
      " Hungary                          13\n",
      " Honduras                         13\n",
      " Scotland                         12\n",
      " Holand-Netherlands                1\n",
      "Name:  native-country, dtype: int64\n",
      " <=50K    24698\n",
      " >50K      7839\n",
      "Name:  income, dtype: int64\n"
     ]
    }
   ],
   "source": [
    "#all column uniques value with count\n",
    "for i in range(len(a)):\n",
    "    print(df[a[i]].value_counts())"
   ]
  },
  {
   "cell_type": "markdown",
   "metadata": {},
   "source": [
    "### It is visible that the dataset is a little skewed with ratio of '<=50k' : '>50k' being around 3:1"
   ]
  },
  {
   "cell_type": "code",
   "execution_count": 12,
   "metadata": {},
   "outputs": [
    {
     "data": {
      "text/plain": [
       "age                0\n",
       " workclass         0\n",
       " fnlwgt            0\n",
       " education         0\n",
       " education-num     0\n",
       " marital-status    0\n",
       " occupation        0\n",
       " relationship      0\n",
       " race              0\n",
       " sex               0\n",
       " capital-gain      0\n",
       " capital-loss      0\n",
       " hours-per-week    0\n",
       " native-country    0\n",
       " income            0\n",
       "dtype: int64"
      ]
     },
     "execution_count": 12,
     "metadata": {},
     "output_type": "execute_result"
    }
   ],
   "source": [
    "df.isnull().sum()"
   ]
  },
  {
   "cell_type": "markdown",
   "metadata": {},
   "source": [
    "### There are no direct null values but unknown values are marked as \"?\"\n",
    "Removing these value"
   ]
  },
  {
   "cell_type": "code",
   "execution_count": 13,
   "metadata": {},
   "outputs": [],
   "source": [
    "# we can see there are no null values but there are ' ?' values which are basically null values\n",
    "# so we will remove them\n",
    "# only the folowing three columns have ' ?'\n",
    "df_0=df[df[' native-country'] == ' ?']\n",
    "df=df.drop(df_0.index)\n",
    "df.reset_index(inplace=True,drop=True)\n",
    "\n",
    "df_1=df[df[' workclass'] == ' ?']\n",
    "df=df.drop(df_1.index)\n",
    "df.reset_index(inplace=True,drop=True)\n",
    "\n",
    "df_2=df[df[' occupation'] == ' ?']\n",
    "df=df.drop(df_2.index)\n",
    "df.reset_index(inplace=True,drop=True)"
   ]
  },
  {
   "cell_type": "code",
   "execution_count": 14,
   "metadata": {},
   "outputs": [
    {
     "name": "stdout",
     "output_type": "stream",
     "text": [
      "36    852\n",
      "31    851\n",
      "33    837\n",
      "34    836\n",
      "37    828\n",
      "     ... \n",
      "82      7\n",
      "83      5\n",
      "88      3\n",
      "85      3\n",
      "86      1\n",
      "Name: age, Length: 72, dtype: int64\n",
      " Private             22264\n",
      " Self-emp-not-inc     2498\n",
      " Local-gov            2067\n",
      " State-gov            1279\n",
      " Self-emp-inc         1074\n",
      " Federal-gov           943\n",
      " Without-pay            14\n",
      "Name:  workclass, dtype: int64\n",
      "203488    13\n",
      "148995    12\n",
      "113364    12\n",
      "123011    12\n",
      "164190    12\n",
      "          ..\n",
      "110172     1\n",
      "34393      1\n",
      "288341     1\n",
      "239415     1\n",
      "229376     1\n",
      "Name:  fnlwgt, Length: 20263, dtype: int64\n",
      " HS-grad         9834\n",
      " Some-college    6669\n",
      " Bachelors       5042\n",
      " Masters         1626\n",
      " Assoc-voc       1307\n",
      " 11th            1048\n",
      " Assoc-acdm      1008\n",
      " 10th             820\n",
      " 7th-8th          556\n",
      " Prof-school      542\n",
      " 9th              455\n",
      " 12th             377\n",
      " Doctorate        375\n",
      " 5th-6th          287\n",
      " 1st-4th          149\n",
      " Preschool         44\n",
      "Name:  education, dtype: int64\n",
      "9     9834\n",
      "10    6669\n",
      "13    5042\n",
      "14    1626\n",
      "11    1307\n",
      "7     1048\n",
      "12    1008\n",
      "6      820\n",
      "4      556\n",
      "15     542\n",
      "5      455\n",
      "8      377\n",
      "16     375\n",
      "3      287\n",
      "2      149\n",
      "1       44\n",
      "Name:  education-num, dtype: int64\n",
      " Married-civ-spouse       14059\n",
      " Never-married             9711\n",
      " Divorced                  4212\n",
      " Separated                  939\n",
      " Widowed                    827\n",
      " Married-spouse-absent      370\n",
      " Married-AF-spouse           21\n",
      "Name:  marital-status, dtype: int64\n",
      " Prof-specialty       4034\n",
      " Craft-repair         4025\n",
      " Exec-managerial      3991\n",
      " Adm-clerical         3719\n",
      " Sales                3584\n",
      " Other-service        3209\n",
      " Machine-op-inspct    1964\n",
      " Transport-moving     1572\n",
      " Handlers-cleaners    1349\n",
      " Farming-fishing       987\n",
      " Tech-support          911\n",
      " Protective-serv       644\n",
      " Priv-house-serv       141\n",
      " Armed-Forces            9\n",
      "Name:  occupation, dtype: int64\n",
      " Husband           12457\n",
      " Not-in-family      7714\n",
      " Own-child          4462\n",
      " Unmarried          3211\n",
      " Wife               1406\n",
      " Other-relative      889\n",
      "Name:  relationship, dtype: int64\n",
      " White                 25912\n",
      " Black                  2816\n",
      " Asian-Pac-Islander      894\n",
      " Amer-Indian-Eskimo      286\n",
      " Other                   231\n",
      "Name:  race, dtype: int64\n",
      " Male      20366\n",
      " Female     9773\n",
      "Name:  sex, dtype: int64\n",
      "0        27601\n",
      "15024      337\n",
      "7688       270\n",
      "7298       240\n",
      "99999      148\n",
      "         ...  \n",
      "401          1\n",
      "22040        1\n",
      "4931         1\n",
      "1455         1\n",
      "1639         1\n",
      "Name:  capital-gain, Length: 118, dtype: int64\n",
      "0       28712\n",
      "1902      194\n",
      "1977      162\n",
      "1887      155\n",
      "1848       50\n",
      "        ...  \n",
      "419         1\n",
      "1411        1\n",
      "1539        1\n",
      "2472        1\n",
      "2467        1\n",
      "Name:  capital-loss, Length: 90, dtype: int64\n",
      "40    14239\n",
      "50     2716\n",
      "45     1752\n",
      "60     1405\n",
      "35     1183\n",
      "      ...  \n",
      "94        1\n",
      "87        1\n",
      "74        1\n",
      "82        1\n",
      "92        1\n",
      "Name:  hours-per-week, Length: 94, dtype: int64\n",
      " United-States                 27487\n",
      " Mexico                          606\n",
      " Philippines                     188\n",
      " Germany                         128\n",
      " Puerto-Rico                     109\n",
      " Canada                          107\n",
      " India                           100\n",
      " El-Salvador                     100\n",
      " Cuba                             92\n",
      " England                          86\n",
      " Jamaica                          80\n",
      " South                            71\n",
      " Italy                            68\n",
      " China                            68\n",
      " Dominican-Republic               67\n",
      " Vietnam                          64\n",
      " Guatemala                        61\n",
      " Japan                            59\n",
      " Poland                           56\n",
      " Columbia                         56\n",
      " Taiwan                           42\n",
      " Iran                             42\n",
      " Haiti                            42\n",
      " Portugal                         34\n",
      " Nicaragua                        33\n",
      " Peru                             30\n",
      " Greece                           29\n",
      " Ecuador                          27\n",
      " France                           27\n",
      " Ireland                          24\n",
      " Hong                             19\n",
      " Trinadad&Tobago                  18\n",
      " Cambodia                         18\n",
      " Thailand                         17\n",
      " Laos                             17\n",
      " Yugoslavia                       16\n",
      " Outlying-US(Guam-USVI-etc)       14\n",
      " Hungary                          13\n",
      " Honduras                         12\n",
      " Scotland                         11\n",
      " Holand-Netherlands                1\n",
      "Name:  native-country, dtype: int64\n",
      " <=50K    22633\n",
      " >50K      7506\n",
      "Name:  income, dtype: int64\n"
     ]
    }
   ],
   "source": [
    "#all column uniques value with count\n",
    "#recheck to see all ' ?' values are removed\n",
    "for i in range(len(a)):\n",
    "    print(df[a[i]].value_counts())"
   ]
  },
  {
   "cell_type": "markdown",
   "metadata": {},
   "source": [
    "# Visualization"
   ]
  },
  {
   "cell_type": "code",
   "execution_count": 15,
   "metadata": {},
   "outputs": [],
   "source": [
    "one = 0\n",
    "zero = 0\n",
    "m_1 = 0\n",
    "m_0 = 0\n",
    "f_1 = 0\n",
    "f_0 = 0\n",
    "for i in range(df.shape[0]):\n",
    "    if df[' income'].values[i] == \" >50K\":\n",
    "        if df[' sex'].values[i] == ' Male':\n",
    "            m_1 += 1\n",
    "        else:\n",
    "            f_1 += 1\n",
    "        one += 1\n",
    "    else:\n",
    "        if df[' sex'].values[i] == ' Male':\n",
    "            m_0 += 1\n",
    "        else:\n",
    "            f_0 += 1\n",
    "        zero += 1"
   ]
  },
  {
   "cell_type": "code",
   "execution_count": 16,
   "metadata": {},
   "outputs": [
    {
     "data": {
      "text/plain": [
       "Text(0.5, 1.0, 'Income Distribuiton')"
      ]
     },
     "execution_count": 16,
     "metadata": {},
     "output_type": "execute_result"
    },
    {
     "data": {
      "image/png": "[encoded data removed]",
      "text/plain": [
       "<Figure size 216x360 with 1 Axes>"
      ]
     },
     "metadata": {
      "needs_background": "light"
     },
     "output_type": "display_data"
    }
   ],
   "source": [
    "income=['<=50k','>50k']\n",
    "fig = plt.figure(figsize=(3,5))\n",
    "xpos = np.arange(len(income))\n",
    "plt.bar(xpos,(zero,one),label=\"Count\",width=0.6,align='center')\n",
    "plt.xticks(xpos,income)\n",
    "plt.xlabel('Income')\n",
    "plt.ylabel('Number of people')\n",
    "plt.legend()\n",
    "plt.title(\"Income Distribuiton\")"
   ]
  },
  {
   "cell_type": "markdown",
   "metadata": {},
   "source": [
    "## What percentage of women earn above 50k and what percentage of men earn above 50k?"
   ]
  },
  {
   "cell_type": "code",
   "execution_count": 17,
   "metadata": {},
   "outputs": [
    {
     "data": {
      "text/plain": [
       "<matplotlib.legend.Legend at 0x18a78874208>"
      ]
     },
     "execution_count": 17,
     "metadata": {},
     "output_type": "execute_result"
    },
    {
     "data": {
      "image/png": "[encoded data removed]",
      "text/plain": [
       "<Figure size 360x576 with 1 Axes>"
      ]
     },
     "metadata": {
      "needs_background": "light"
     },
     "output_type": "display_data"
    }
   ],
   "source": [
    "fig,ax=plt.subplots(figsize=(5,8))\n",
    "a = ax.bar(xpos - .2, (m_0,m_1), width = .4 , label = \"Male\",color='red')\n",
    "b = ax.bar(xpos + .2, (f_0,f_1), width = .4, label = \"Female\",color='black')\n",
    "plt.xticks(xpos , ('<=50k','>50k'))\n",
    "plt.legend()"
   ]
  },
  {
   "cell_type": "code",
   "execution_count": 18,
   "metadata": {},
   "outputs": [
    {
     "name": "stdout",
     "output_type": "stream",
     "text": [
      "Percentage of women earning above 50k is 11.378287117568812 %\n",
      "Percentage of men earning above 50k is 31.395463026612983 %\n"
     ]
    }
   ],
   "source": [
    "print(\"Percentage of women earning above 50k is\",f_1*100/(f_1+f_0),\"%\")\n",
    "print(\"Percentage of men earning above 50k is\",m_1*100/(m_1+m_0),\"%\")"
   ]
  },
  {
   "cell_type": "markdown",
   "metadata": {},
   "source": [
    "## What is the nationality of people with highest and lowest average education level?"
   ]
  },
  {
   "cell_type": "code",
   "execution_count": 19,
   "metadata": {},
   "outputs": [
    {
     "data": {
      "text/plain": [
       "['United-States',\n",
       " 'Cuba',\n",
       " 'Jamaica',\n",
       " 'India',\n",
       " 'Mexico',\n",
       " 'Puerto-Rico',\n",
       " 'Honduras',\n",
       " 'England',\n",
       " 'Canada',\n",
       " 'Germany',\n",
       " 'Iran',\n",
       " 'Philippines',\n",
       " 'Poland',\n",
       " 'Columbia',\n",
       " 'Cambodia',\n",
       " 'Thailand',\n",
       " 'Ecuador',\n",
       " 'Laos',\n",
       " 'Taiwan',\n",
       " 'Haiti',\n",
       " 'Portugal',\n",
       " 'Dominican-Republic',\n",
       " 'El-Salvador',\n",
       " 'France',\n",
       " 'Guatemala',\n",
       " 'Italy',\n",
       " 'China',\n",
       " 'South',\n",
       " 'Japan',\n",
       " 'Yugoslavia',\n",
       " 'Peru',\n",
       " 'Outlying-US(Guam-USVI-etc)',\n",
       " 'Scotland',\n",
       " 'Trinadad&Tobago',\n",
       " 'Greece',\n",
       " 'Nicaragua',\n",
       " 'Vietnam',\n",
       " 'Hong',\n",
       " 'Ireland',\n",
       " 'Hungary',\n",
       " 'Holand-Netherlands']"
      ]
     },
     "execution_count": 19,
     "metadata": {},
     "output_type": "execute_result"
    }
   ],
   "source": [
    "country=list()\n",
    "for i in df[' native-country'].unique():\n",
    "    country.append(i.strip())\n",
    "country"
   ]
  },
  {
   "cell_type": "code",
   "execution_count": 20,
   "metadata": {},
   "outputs": [],
   "source": [
    "country_total=dict()\n",
    "country_count={}\n",
    "for i in range(df.shape[0]):\n",
    "    for j in country:\n",
    "        if df[' native-country'].values[i].strip()==j:\n",
    "            country_total[j]=country_total.get(j,0) + df[' education-num'].values[i]\n",
    "            country_count[j]=country_count.get(j,0) + 1\n",
    "#data is a skewed since it is america's income and has most peoples native country as america"
   ]
  },
  {
   "cell_type": "code",
   "execution_count": 21,
   "metadata": {},
   "outputs": [
    {
     "data": {
      "text/plain": [
       "{'Columbia': 9.446428571428571,\n",
       " 'Poland': 10.160714285714286,\n",
       " 'Vietnam': 9.515625,\n",
       " 'Peru': 9.433333333333334,\n",
       " 'Hungary': 10.76923076923077,\n",
       " 'Canada': 10.672897196261681,\n",
       " 'Italy': 8.735294117647058,\n",
       " 'Outlying-US(Guam-USVI-etc)': 10.285714285714286,\n",
       " 'South': 11.056338028169014,\n",
       " 'Cambodia': 8.722222222222221,\n",
       " 'Laos': 8.647058823529411,\n",
       " 'Japan': 11.35593220338983,\n",
       " 'Nicaragua': 8.666666666666666,\n",
       " 'Trinadad&Tobago': 8.333333333333334,\n",
       " 'Iran': 12.452380952380953,\n",
       " 'Germany': 11.109375,\n",
       " 'Philippines': 10.96808510638298,\n",
       " 'China': 11.235294117647058,\n",
       " 'Jamaica': 9.8125,\n",
       " 'England': 11.127906976744185,\n",
       " 'Haiti': 8.857142857142858,\n",
       " 'United-States': 10.22257794593808,\n",
       " 'France': 12.37037037037037,\n",
       " 'Portugal': 6.852941176470588,\n",
       " 'Dominican-Republic': 7.08955223880597,\n",
       " 'Ireland': 10.083333333333334,\n",
       " 'India': 12.43,\n",
       " 'Scotland': 10.363636363636363,\n",
       " 'Holand-Netherlands': 10.0,\n",
       " 'Puerto-Rico': 8.339449541284404,\n",
       " 'Mexico': 6.145214521452146,\n",
       " 'Cuba': 9.695652173913043,\n",
       " 'El-Salvador': 6.88,\n",
       " 'Guatemala': 6.19672131147541,\n",
       " 'Taiwan': 13.476190476190476,\n",
       " 'Yugoslavia': 9.9375,\n",
       " 'Hong': 10.894736842105264,\n",
       " 'Ecuador': 9.555555555555555,\n",
       " 'Greece': 9.724137931034482,\n",
       " 'Thailand': 11.0,\n",
       " 'Honduras': 8.666666666666666}"
      ]
     },
     "execution_count": 21,
     "metadata": {},
     "output_type": "execute_result"
    }
   ],
   "source": [
    "country_avg = dict([(k, country_total[k]/country_count[k]) for k in set(country_total) & set(country_count)])\n",
    "country_avg"
   ]
  },
  {
   "cell_type": "code",
   "execution_count": 22,
   "metadata": {},
   "outputs": [
    {
     "data": {
      "text/plain": [
       "Text(0.5, 1.0, 'Average Education Level of each Nationality in US')"
      ]
     },
     "execution_count": 22,
     "metadata": {},
     "output_type": "execute_result"
    },
    {
     "data": {
      "image/png": "[encoded data removed]",
      "text/plain": [
       "<Figure size 720x720 with 1 Axes>"
      ]
     },
     "metadata": {
      "needs_background": "light"
     },
     "output_type": "display_data"
    }
   ],
   "source": [
    "fig = plt.figure(figsize=(10,10))\n",
    "xpos=np.arange(len(country_avg.keys()))\n",
    "plt.barh(xpos,country_avg.values())\n",
    "plt.yticks(xpos,country_avg.keys(),rotation=0)\n",
    "plt.ylabel(\"Nationality -->\")\n",
    "plt.xlabel(\"Average Education Level -->\")\n",
    "plt.title(\"Average Education Level of each Nationality in US\")"
   ]
  },
  {
   "cell_type": "code",
   "execution_count": 23,
   "metadata": {},
   "outputs": [
    {
     "name": "stdout",
     "output_type": "stream",
     "text": [
      "Country with heighest average education level = [13.476190476190476, 'Taiwan']\n",
      "Country with lowest average education level = [6.145214521452146, 'Mexico']\n"
     ]
    }
   ],
   "source": [
    "c_sorted=sorted(([x,y] for y,x in country_avg.items()),reverse= True)\n",
    "print(\"Country with heighest average education level =\",c_sorted[0])\n",
    "print(\"Country with lowest average education level =\",c_sorted[-1])"
   ]
  },
  {
   "cell_type": "markdown",
   "metadata": {},
   "source": [
    "# Label Encoding Columns"
   ]
  },
  {
   "cell_type": "code",
   "execution_count": 24,
   "metadata": {},
   "outputs": [],
   "source": [
    "#label encoding\n",
    "#replacing income vlaues with 0 and 1\n",
    "df[' income']=df[' income'].replace([\" <=50K\",\" >50K\"],[0,1])"
   ]
  },
  {
   "cell_type": "code",
   "execution_count": 25,
   "metadata": {},
   "outputs": [],
   "source": [
    "# label encoding rest of the columns using the le.fit_transform function\n",
    "# not encoding education since education-num is already a encoded version of that column\n",
    "df[[' workclass',' marital-status',' occupation', ' race', ' sex',' native-country']] = df[[' workclass',' marital-status',' occupation', ' race', ' sex',' native-country']].apply(le.fit_transform)"
   ]
  },
  {
   "cell_type": "markdown",
   "metadata": {},
   "source": [
    "# Checking correlation"
   ]
  },
  {
   "cell_type": "code",
   "execution_count": 26,
   "metadata": {},
   "outputs": [
    {
     "data": {
      "text/plain": [
       "<matplotlib.axes._subplots.AxesSubplot at 0x18a77b6cf08>"
      ]
     },
     "execution_count": 26,
     "metadata": {},
     "output_type": "execute_result"
    },
    {
     "data": {
      "image/png": "[encoded data removed]",
      "text/plain": [
       "<Figure size 720x576 with 2 Axes>"
      ]
     },
     "metadata": {
      "needs_background": "light"
     },
     "output_type": "display_data"
    }
   ],
   "source": [
    "#heatmap to check correlation between different columns\n",
    "fig = plt.figure(figsize=(10,8))\n",
    "sb.heatmap(df.corr(),annot=True)\n",
    "#income is displayed below to have relatively high correlations but it is dependant variable"
   ]
  },
  {
   "cell_type": "markdown",
   "metadata": {},
   "source": [
    "# Converting Data to required X and y\n",
    "where, \n",
    "\n",
    "        X = clean (label encoded) independant variables which are required to predict y\n",
    "\n",
    "        y = Dependant or Target variable"
   ]
  },
  {
   "cell_type": "code",
   "execution_count": 27,
   "metadata": {},
   "outputs": [],
   "source": [
    "#removing education column since education-num has the same values in encoded format\n",
    "X=df[['age', ' workclass', ' fnlwgt',' education-num', ' marital-status',\n",
    "       ' occupation', ' race', ' sex',  ' capital-gain',\n",
    "       ' capital-loss',' hours-per-week', ' native-country']]"
   ]
  },
  {
   "cell_type": "code",
   "execution_count": 28,
   "metadata": {},
   "outputs": [],
   "source": [
    "X = X.values"
   ]
  },
  {
   "cell_type": "code",
   "execution_count": 29,
   "metadata": {},
   "outputs": [],
   "source": [
    "X = np.append(np.ones((X.shape[0],1)),X,axis=1)\n",
    "y = df[' income'].values"
   ]
  },
  {
   "cell_type": "code",
   "execution_count": 30,
   "metadata": {},
   "outputs": [
    {
     "data": {
      "text/plain": [
       "(30139, 1)"
      ]
     },
     "execution_count": 30,
     "metadata": {},
     "output_type": "execute_result"
    }
   ],
   "source": [
    "#converting y from 1d to 2d as to pass it through costfunction multiplication\n",
    "y = np.reshape(y,(y.shape[0],1))\n",
    "y.shape"
   ]
  },
  {
   "cell_type": "code",
   "execution_count": 31,
   "metadata": {},
   "outputs": [
    {
     "name": "stdout",
     "output_type": "stream",
     "text": [
      "[[ 1. 39.  5. ...  0. 40. 38.]\n",
      " [ 1. 50.  4. ...  0. 13. 38.]\n",
      " [ 1. 38.  2. ...  0. 40. 38.]\n",
      " ...\n",
      " [ 1. 58.  2. ...  0. 40. 38.]\n",
      " [ 1. 22.  2. ...  0. 20. 38.]\n",
      " [ 1. 52.  3. ...  0. 40. 38.]] \n",
      " (30139, 13)\n"
     ]
    }
   ],
   "source": [
    "print(X,'\\n',X.shape)"
   ]
  },
  {
   "cell_type": "code",
   "execution_count": 32,
   "metadata": {},
   "outputs": [],
   "source": [
    "#normalization\n",
    "for i in range(X.shape[1]):\n",
    "    norm = np.linalg.norm(X[:,i])\n",
    "    X[:,i] = X[:,i]/norm\n",
    "# X_1.shape"
   ]
  },
  {
   "cell_type": "code",
   "execution_count": 33,
   "metadata": {},
   "outputs": [],
   "source": [
    "X_train, X_test, y_train, y_test = train_test_split(X, y)"
   ]
  },
  {
   "cell_type": "markdown",
   "metadata": {},
   "source": [
    "# Logistic Regression(with regularization) from scratch"
   ]
  },
  {
   "cell_type": "code",
   "execution_count": 34,
   "metadata": {},
   "outputs": [
    {
     "data": {
      "text/plain": [
       "0.5"
      ]
     },
     "execution_count": 34,
     "metadata": {},
     "output_type": "execute_result"
    }
   ],
   "source": [
    "# defining sigmoid function which is used to restrict the output values between 0 and 1\n",
    "def sigmoid(x):\n",
    "    sig= 1 / ( (np.e**-x) + 1 )\n",
    "    return sig\n",
    "sigmoid(0)"
   ]
  },
  {
   "cell_type": "code",
   "execution_count": 35,
   "metadata": {},
   "outputs": [],
   "source": [
    "# defining cost function with regularization which calculates the cost of the logistic\n",
    "# regression function \n",
    "# lam variable is used to make the theta smaller so that variables are less dependant on a single big theta value\n",
    "def costFunc(X,y,theta,lam):\n",
    "    m = y.shape[0]\n",
    "    z = np.dot(X,theta)\n",
    "    h = sigmoid(z)\n",
    "    cost = sum(-(y*np.log(h) + (1-y)*np.log(1-h)))\n",
    "    reg = (lam/2)*sum(theta*theta)\n",
    "    cost = (cost+reg)/m\n",
    "    grad_reg = (lam/m)*theta\n",
    "    grad_old = np.dot(np.transpose(X),(h-y))\n",
    "    # the first row of X is only 1 so therefore we dont reduce the first grad term and only the following ones\n",
    "    grad_old[1:] = grad_old[1:] + grad_reg[1:]\n",
    "    grad = grad_old\n",
    "    return cost[0],grad\n",
    "# return the cost and gradient calculaed"
   ]
  },
  {
   "cell_type": "code",
   "execution_count": 36,
   "metadata": {},
   "outputs": [],
   "source": [
    "# defining gradiesnt descent function which takes all the values as input and iterates over them to reduce the theta\n",
    "# to a final amount which can be used to calculate or predict y more accurately\n",
    "# reduces theta by the preoduct of gradient and alpha (grad returned from cost func)\n",
    "# the more the value of alpha the faster the cost decreases but has to be neither too big nor too small for best performance\n",
    "# to reach global minimmum\n",
    "def gradDescent(X,y,theta,iters,alpha,lam):\n",
    "    cost_all=[]\n",
    "    for i in range(iters):\n",
    "        cost,grad = costFunc(X,y,theta,lam)\n",
    "        cost_all.append(cost)\n",
    "        theta -= (alpha*grad)\n",
    "    return cost_all , theta\n",
    "# it returns all costs over 'iters' iteration so we can represent them graphically and see"
   ]
  },
  {
   "cell_type": "code",
   "execution_count": 37,
   "metadata": {},
   "outputs": [],
   "source": [
    "# defining the predict function which takes a variable thresh between 0 and 1 use to make prediction \n",
    "# whether the output is one or 0, more skewed dataset require a lower threshhold i.e. smaller value of thresh\n",
    "def predict(X,all_theta,thresh):\n",
    "    p = sigmoid(np.dot(X,theta))\n",
    "    for i in range(X.shape[0]):\n",
    "        if p[i] > thresh : p[i]=1\n",
    "        if p[i] <= thresh :p[i]=0\n",
    "    return p"
   ]
  },
  {
   "cell_type": "code",
   "execution_count": 38,
   "metadata": {},
   "outputs": [
    {
     "name": "stdout",
     "output_type": "stream",
     "text": [
      "0.6931471805600897\n",
      "[[32.65442477]\n",
      " [26.5494918 ]\n",
      " [29.58197528]\n",
      " [28.70790092]\n",
      " [27.08728714]\n",
      " [33.78227365]\n",
      " [25.38682166]\n",
      " [30.93683854]\n",
      " [19.90757516]\n",
      " [-7.56875099]\n",
      " [-0.84984388]\n",
      " [27.70165743]\n",
      " [32.03579964]]\n"
     ]
    }
   ],
   "source": [
    "#initialising theta to 0 and testing cost and grad\n",
    "init_theta = np.zeros((X.shape[1], 1))\n",
    "cost,grad = costFunc(X_train,y_train,init_theta,0.06)\n",
    "print(cost)\n",
    "print(grad)"
   ]
  },
  {
   "cell_type": "code",
   "execution_count": 39,
   "metadata": {},
   "outputs": [],
   "source": [
    "#initialising theta again since theta is changed after each run\n",
    "init_theta = np.zeros((X.shape[1], 1))\n",
    "#trial of multiple alpha and lamda value proved alpha = 0.16 and lamba =0.01 to give best result\n",
    "costs,theta = gradDescent(X_train,y_train,init_theta,600,0.15,0.01)"
   ]
  },
  {
   "cell_type": "code",
   "execution_count": 40,
   "metadata": {},
   "outputs": [
    {
     "name": "stdout",
     "output_type": "stream",
     "text": [
      "Final Cost = 0.48596372513417696\n"
     ]
    }
   ],
   "source": [
    "print(\"Final Cost =\",costs[-1])"
   ]
  },
  {
   "cell_type": "code",
   "execution_count": 41,
   "metadata": {},
   "outputs": [
    {
     "data": {
      "text/plain": [
       "Text(0.5, 1.0, 'Cost Change with Every Iteration')"
      ]
     },
     "execution_count": 41,
     "metadata": {},
     "output_type": "execute_result"
    },
    {
     "data": {
      "image/png": "[encoded data removed]",
      "text/plain": [
       "<Figure size 432x288 with 1 Axes>"
      ]
     },
     "metadata": {
      "needs_background": "light"
     },
     "output_type": "display_data"
    }
   ],
   "source": [
    "plt.plot(costs)\n",
    "plt.xlabel('Iteration')\n",
    "plt.ylabel('Cost')\n",
    "plt.title('Cost Change with Every Iteration')"
   ]
  },
  {
   "cell_type": "code",
   "execution_count": 42,
   "metadata": {},
   "outputs": [
    {
     "name": "stdout",
     "output_type": "stream",
     "text": [
      "[0. 1.] [5598 1937]\n"
     ]
    }
   ],
   "source": [
    "#predictng and checking unique values\n",
    "y_pred=predict(X_test,theta,0.325)\n",
    "u,c = np.unique(y_pred,return_counts=True)\n",
    "print(u,c)"
   ]
  },
  {
   "cell_type": "code",
   "execution_count": 43,
   "metadata": {},
   "outputs": [
    {
     "data": {
      "text/plain": [
       "(0.542782152230971, 0.7688122096881221)"
      ]
     },
     "execution_count": 43,
     "metadata": {},
     "output_type": "execute_result"
    }
   ],
   "source": [
    "#f1 score and accuracy\n",
    "a=[]\n",
    "b=[]\n",
    "a.append(f1_score(y_test,y_pred))\n",
    "b.append(accuracy_score(y_test,y_pred))\n",
    "(f1_score(y_test,y_pred)),(accuracy_score(y_test,y_pred))"
   ]
  },
  {
   "cell_type": "markdown",
   "metadata": {},
   "source": [
    "# Support Vector Machine"
   ]
  },
  {
   "cell_type": "code",
   "execution_count": 44,
   "metadata": {},
   "outputs": [
    {
     "name": "stderr",
     "output_type": "stream",
     "text": [
      "C:\\Users\\shree\\anaconda3\\lib\\site-packages\\sklearn\\utils\\validation.py:760: DataConversionWarning: A column-vector y was passed when a 1d array was expected. Please change the shape of y to (n_samples, ), for example using ravel().\n",
      "  y = column_or_1d(y, warn=True)\n"
     ]
    }
   ],
   "source": [
    "#svm implementation\n",
    "svc.fit(X_train, y_train)\n",
    "y_pred1 = svc.predict(X_test)"
   ]
  },
  {
   "cell_type": "code",
   "execution_count": 45,
   "metadata": {},
   "outputs": [
    {
     "data": {
      "text/plain": [
       "(0.6246786632390745, 0.8449900464499005)"
      ]
     },
     "execution_count": 45,
     "metadata": {},
     "output_type": "execute_result"
    }
   ],
   "source": [
    "#svm f1 score and accuracy\n",
    "a.append(f1_score(y_test,y_pred1))\n",
    "b.append(accuracy_score(y_test,y_pred1))\n",
    "(f1_score(y_test,y_pred1)),(accuracy_score(y_test,y_pred1))"
   ]
  },
  {
   "cell_type": "markdown",
   "metadata": {},
   "source": [
    "# K- Nearest Neighbors"
   ]
  },
  {
   "cell_type": "code",
   "execution_count": 46,
   "metadata": {},
   "outputs": [
    {
     "name": "stderr",
     "output_type": "stream",
     "text": [
      "C:\\Users\\shree\\anaconda3\\lib\\site-packages\\ipykernel_launcher.py:4: DataConversionWarning: A column-vector y was passed when a 1d array was expected. Please change the shape of y to (n_samples, ), for example using ravel().\n",
      "  after removing the cwd from sys.path.\n"
     ]
    }
   ],
   "source": [
    "# knn implementation\n",
    "# best accuracy with 21\n",
    "neigh = KNeighborsClassifier(n_neighbors = 21)\n",
    "neigh.fit(X_train,y_train)\n",
    "y_pred2 = neigh.predict(X_test)"
   ]
  },
  {
   "cell_type": "code",
   "execution_count": 47,
   "metadata": {},
   "outputs": [
    {
     "data": {
      "text/plain": [
       "(0.6579785693599768, 0.8432647644326476)"
      ]
     },
     "execution_count": 47,
     "metadata": {},
     "output_type": "execute_result"
    }
   ],
   "source": [
    "#knn score adn accuracy\n",
    "a.append(f1_score(y_test,y_pred2))\n",
    "b.append(accuracy_score(y_test,y_pred2))\n",
    "(f1_score(y_test,y_pred2)),(accuracy_score(y_test,y_pred2))"
   ]
  },
  {
   "cell_type": "markdown",
   "metadata": {},
   "source": [
    "# Checking also with built in Logistic Regression"
   ]
  },
  {
   "cell_type": "code",
   "execution_count": 48,
   "metadata": {},
   "outputs": [
    {
     "name": "stderr",
     "output_type": "stream",
     "text": [
      "C:\\Users\\shree\\anaconda3\\lib\\site-packages\\sklearn\\utils\\validation.py:760: DataConversionWarning: A column-vector y was passed when a 1d array was expected. Please change the shape of y to (n_samples, ), for example using ravel().\n",
      "  y = column_or_1d(y, warn=True)\n"
     ]
    },
    {
     "data": {
      "text/plain": [
       "(array([0], dtype=int64), array([7535], dtype=int64))"
      ]
     },
     "execution_count": 48,
     "metadata": {},
     "output_type": "execute_result"
    }
   ],
   "source": [
    "# score with in built\n",
    "# with different penalty it yields much better result but still knn is best\n",
    "# logReg = LogisticRegression(penalty='l1',solver='liblinear')\n",
    "logReg = LogisticRegression()\n",
    "logReg.fit(X_train, y_train)\n",
    "y_pred_in = logReg.predict(X_test)\n",
    "a.append(f1_score(y_test,y_pred_in))\n",
    "b.append(accuracy_score(y_test,y_pred_in))\n",
    "u,c = np.unique(y_pred_in,return_counts=True)\n",
    "u,c\n",
    "# f1_score(y_test,y_pred_in),accuracy_score(y_test,y_pred_in)"
   ]
  },
  {
   "cell_type": "markdown",
   "metadata": {},
   "source": [
    "# Accuracy and f1-score of each algorithm"
   ]
  },
  {
   "cell_type": "code",
   "execution_count": 49,
   "metadata": {},
   "outputs": [
    {
     "name": "stdout",
     "output_type": "stream",
     "text": [
      "Name                 F1_score           Accuracy\n",
      "LogReg(from scratch) 0.542782152230971 0.7688122096881221\n",
      "Support vector       0.6246786632390745 0.8449900464499005\n",
      "K-Nearest Neighbors  0.6579785693599768 0.8432647644326476\n",
      "LogReg(in built)     0.0                0.7514266755142668\n"
     ]
    }
   ],
   "source": [
    "print('Name                ','F1_score          ','Accuracy')\n",
    "print('LogReg(from scratch)',a[0],b[0])\n",
    "print('Support vector      ',a[1],b[1])\n",
    "print('K-Nearest Neighbors ',a[2],b[2])\n",
    "print('LogReg(in built)    ',a[3],'              ',b[3])"
   ]
  },
  {
   "cell_type": "code",
   "execution_count": 50,
   "metadata": {},
   "outputs": [],
   "source": [
    "# in built log reg has good accuracy but 0 score which means it is predicting all values 0 and\n",
    "# hence is worse than logreg from scratch but some using l1 penalty with liblinear will solve this problem\n",
    "# knn still performs best"
   ]
  },
  {
   "cell_type": "markdown",
   "metadata": {},
   "source": [
    "# Conclusion"
   ]
  },
  {
   "cell_type": "code",
   "execution_count": 51,
   "metadata": {},
   "outputs": [
    {
     "name": "stdout",
     "output_type": "stream",
     "text": [
      "K-Nearest Neighbors has the best accuracy and score and is reliable for this dataset!\n",
      "Accuracy = 0.8432647644326476 %\n",
      "F1-score = 0.6579785693599768\n"
     ]
    }
   ],
   "source": [
    "print(\"K-Nearest Neighbors has the best accuracy and score and is reliable for this dataset!\")\n",
    "print(\"Accuracy = {} %\".format(b[2]))\n",
    "print(\"F1-score =\",a[2])"
   ]
  },
  {
   "cell_type": "code",
   "execution_count": null,
   "metadata": {},
   "outputs": [],
   "source": []
  }
 ],
 "metadata": {
  "kernelspec": {
   "display_name": "Python 3",
   "language": "python",
   "name": "python3"
  },
  "language_info": {
   "codemirror_mode": {
    "name": "ipython",
    "version": 3
   },
   "file_extension": ".py",
   "mimetype": "text/x-python",
   "name": "python",
   "nbconvert_exporter": "python",
   "pygments_lexer": "ipython3",
   "version": "3.7.6"
  }
 },
 "nbformat": 4,
 "nbformat_minor": 4
}
